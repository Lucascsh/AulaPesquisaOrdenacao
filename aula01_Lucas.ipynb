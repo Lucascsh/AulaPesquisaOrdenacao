{
  "nbformat": 4,
  "nbformat_minor": 0,
  "metadata": {
    "colab": {
      "name": "aula01-Lucas.ipynb",
      "provenance": []
    },
    "kernelspec": {
      "name": "python3",
      "display_name": "Python 3"
    },
    "language_info": {
      "name": "python"
    }
  },
  "cells": [
    {
      "cell_type": "markdown",
      "source": [
        "<h2>Primeira aula de **Python** </h2>na disciplina de Pesquisa e Ordenação com o professor Mirkos - mirkos@ufn.edu.br"
      ],
      "metadata": {
        "id": "GVmHCda-56I4"
      }
    },
    {
      "cell_type": "code",
      "execution_count": 10,
      "metadata": {
        "id": "Ixru_UTs5QKt",
        "colab": {
          "base_uri": "https://localhost:8080/"
        },
        "outputId": "1a5ca6dd-2c07-42c4-87d2-9e66809a2e41"
      },
      "outputs": [
        {
          "output_type": "stream",
          "name": "stdout",
          "text": [
            "Digite o seu nome: Lucas\n",
            "O nome digitado é: Lucas com 5 caracteres\n"
          ]
        }
      ],
      "source": [
        "nome = input ('Digite o seu nome: ')\n",
        "tamanho = len(nome) #len é uma função que define o tamanho dos dados\n",
        "print ('O nome digitado é:', nome, 'com', tamanho, 'caracteres')\n"
      ]
    },
    {
      "cell_type": "code",
      "source": [
        "anoNasc = input('Digite o ano do seu nascimento: ')\n",
        "anoNasc = int(anoNasc) #converte string para int\n",
        "idade = 2022 - anoNasc\n",
        "\n",
        "print('A idade de',nome,'é:', idade)"
      ],
      "metadata": {
        "colab": {
          "base_uri": "https://localhost:8080/"
        },
        "id": "E4RZ46Bs7lIy",
        "outputId": "a6eaf9e0-6b0a-4bcb-e74e-c258f300041e"
      },
      "execution_count": 9,
      "outputs": [
        {
          "output_type": "stream",
          "name": "stdout",
          "text": [
            "Digite o ano do seu nascimento: 1998\n",
            "A idade de Lucas  é: 24\n"
          ]
        }
      ]
    },
    {
      "cell_type": "code",
      "source": [
        ""
      ],
      "metadata": {
        "id": "aHaEbJuv78VO"
      },
      "execution_count": null,
      "outputs": []
    },
    {
      "cell_type": "code",
      "source": [
        "#Calculando IMC\n",
        "#IMC = peso/altura^2 ~ peso/(altura*altura)\n",
        "\n",
        "peso = float(input('Digite o seu peso: ').replace(',', '.'))\n",
        "altura = float(input('Digite a sua altura: ').replace(',', '.'))\n",
        "imc = peso/(altura*altura)\n",
        "print(imc)"
      ],
      "metadata": {
        "id": "sdSgxTK89Hfk"
      },
      "execution_count": null,
      "outputs": []
    },
    {
      "cell_type": "code",
      "source": [
        "#Vetores em Python são chamados de Listas\n",
        "nomesAlunos = ['Lucas', 'Pedro', 'Carlos', 'leonardo','Mirkos','gabriel', 'matheus']\n",
        "print (nomesAlunos)\n"
      ],
      "metadata": {
        "colab": {
          "base_uri": "https://localhost:8080/"
        },
        "id": "STyTy31l_Ui4",
        "outputId": "8a5bfaef-d6d7-4b2a-a9b1-aba71df4c2ae"
      },
      "execution_count": 50,
      "outputs": [
        {
          "output_type": "stream",
          "name": "stdout",
          "text": [
            "['Lucas', 'Pedro', 'Carlos', 'leonardo', 'Mirkos', 'gabriel', 'matheus']\n"
          ]
        }
      ]
    },
    {
      "cell_type": "code",
      "source": [
        "#Laço de repetição\n",
        "indice=0\n",
        "for aluno in nomesAlunos:\n",
        "  nomesAlunos[indice] = aluno.title()\n",
        "  print(indice,nomesAlunos[indice],len(aluno))\n",
        "  indice+=1"
      ],
      "metadata": {
        "colab": {
          "base_uri": "https://localhost:8080/"
        },
        "id": "pvieTtLQAjEM",
        "outputId": "54474042-57ce-44f6-ece6-e0e8264f69e2"
      },
      "execution_count": 52,
      "outputs": [
        {
          "output_type": "stream",
          "name": "stdout",
          "text": [
            "0 Lucas 5\n",
            "1 Pedro 5\n",
            "2 Carlos 6\n",
            "3 Leonardo 8\n",
            "4 Mirkos 6\n",
            "5 Gabriel 7\n",
            "6 Matheus 7\n"
          ]
        }
      ]
    },
    {
      "cell_type": "code",
      "source": [
        "tam=len(nomesAlunos)-1\n",
        "aux=0\n",
        "aux2=0\n",
        "while aux2 < tam:\n",
        "  while aux < tam:\n",
        "    if nomesAlunos[aux]>nomesAlunos[aux+1]:\n",
        "      #troca\n",
        "      print('Trocando:', nomesAlunos[aux], nomesAlunos[aux+1])\n",
        "      auxiliar = nomesAlunos[aux+1]\n",
        "      nomesAlunos[aux+1]=nomesAlunos[aux]\n",
        "      nomesAlunos[aux] = auxiliar\n",
        "    aux+=1\n",
        "  aux=0\n",
        "  aux2+=1\n",
        "print(nomesAlunos)"
      ],
      "metadata": {
        "colab": {
          "base_uri": "https://localhost:8080/"
        },
        "id": "eni1Ry5JBFE5",
        "outputId": "964a882f-20ce-45c6-b799-e9dc465f49ed"
      },
      "execution_count": 53,
      "outputs": [
        {
          "output_type": "stream",
          "name": "stdout",
          "text": [
            "Trocando: Pedro Carlos\n",
            "Trocando: Pedro Leonardo\n",
            "Trocando: Pedro Mirkos\n",
            "Trocando: Pedro Gabriel\n",
            "Trocando: Pedro Matheus\n",
            "Trocando: Lucas Carlos\n",
            "Trocando: Lucas Leonardo\n",
            "Trocando: Mirkos Gabriel\n",
            "Trocando: Mirkos Matheus\n",
            "Trocando: Lucas Gabriel\n",
            "Trocando: Leonardo Gabriel\n",
            "['Carlos', 'Gabriel', 'Leonardo', 'Lucas', 'Matheus', 'Mirkos', 'Pedro']\n"
          ]
        }
      ]
    }
  ]
}